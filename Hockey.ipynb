{
 "cells": [
  {
   "cell_type": "code",
   "execution_count": 35,
   "metadata": {
    "collapsed": false,
    "scrolled": true
   },
   "outputs": [
    {
     "name": "stdout",
     "output_type": "stream",
     "text": [
      "[]\n",
      "[]\n"
     ]
    },
    {
     "ename": "NameError",
     "evalue": "name 'null' is not defined",
     "output_type": "error",
     "traceback": [
      "\u001b[0;31m---------------------------------------------------------------------------\u001b[0m",
      "\u001b[0;31mNameError\u001b[0m                                 Traceback (most recent call last)",
      "\u001b[0;32m<ipython-input-35-3214b792f77d>\u001b[0m in \u001b[0;36m<module>\u001b[0;34m()\u001b[0m\n\u001b[1;32m     94\u001b[0m \u001b[0;34m\u001b[0m\u001b[0m\n\u001b[1;32m     95\u001b[0m \u001b[0;31m##################################################\u001b[0m\u001b[0;34m\u001b[0m\u001b[0;34m\u001b[0m\u001b[0m\n\u001b[0;32m---> 96\u001b[0;31m \u001b[0mgetWinLossRationOfAllTeams\u001b[0m\u001b[0;34m(\u001b[0m\u001b[0mteams\u001b[0m\u001b[0;34m,\u001b[0m\u001b[0mjson\u001b[0m\u001b[0;34m,\u001b[0m\u001b[0;36m30\u001b[0m\u001b[0;34m)\u001b[0m\u001b[0;34m\u001b[0m\u001b[0m\n\u001b[0m\u001b[1;32m     97\u001b[0m \u001b[0;31m# dictTeamWin = getListOfAllTeamsAndWins(teams,json,30)\u001b[0m\u001b[0;34m\u001b[0m\u001b[0;34m\u001b[0m\u001b[0m\n",
      "\u001b[0;32m<ipython-input-35-3214b792f77d>\u001b[0m in \u001b[0;36mgetWinLossRationOfAllTeams\u001b[0;34m(teams, json, numOfFiles)\u001b[0m\n\u001b[1;32m     88\u001b[0m     \u001b[0mratioDict\u001b[0m \u001b[0;34m=\u001b[0m \u001b[0mdict\u001b[0m\u001b[0;34m(\u001b[0m\u001b[0;34m)\u001b[0m\u001b[0;34m\u001b[0m\u001b[0m\n\u001b[1;32m     89\u001b[0m     \u001b[0;32mfor\u001b[0m \u001b[0mi\u001b[0m \u001b[0;32min\u001b[0m \u001b[0mrange\u001b[0m\u001b[0;34m(\u001b[0m\u001b[0;36m30\u001b[0m\u001b[0;34m)\u001b[0m\u001b[0;34m:\u001b[0m\u001b[0;34m\u001b[0m\u001b[0m\n\u001b[0;32m---> 90\u001b[0;31m         \u001b[0mratio\u001b[0m \u001b[0;34m=\u001b[0m \u001b[0mgetTeamWLRation\u001b[0m\u001b[0;34m(\u001b[0m\u001b[0mi\u001b[0m\u001b[0;34m,\u001b[0m\u001b[0mjson\u001b[0m\u001b[0;34m,\u001b[0m\u001b[0mnumOfFiles\u001b[0m\u001b[0;34m)\u001b[0m\u001b[0;34m\u001b[0m\u001b[0m\n\u001b[0m\u001b[1;32m     91\u001b[0m         \u001b[0mratioDict\u001b[0m\u001b[0;34m[\u001b[0m\u001b[0mteams\u001b[0m\u001b[0;34m[\u001b[0m\u001b[0mi\u001b[0m\u001b[0;34m]\u001b[0m\u001b[0;34m]\u001b[0m \u001b[0;34m=\u001b[0m \u001b[0mratio\u001b[0m\u001b[0;34m\u001b[0m\u001b[0m\n\u001b[1;32m     92\u001b[0m     \u001b[0;32mreturn\u001b[0m \u001b[0mratioDict\u001b[0m\u001b[0;34m\u001b[0m\u001b[0m\n",
      "\u001b[0;32m<ipython-input-35-3214b792f77d>\u001b[0m in \u001b[0;36mgetTeamWLRation\u001b[0;34m(index, json, numOfFiles)\u001b[0m\n\u001b[1;32m     63\u001b[0m         \u001b[0mlosses\u001b[0m\u001b[0;34m.\u001b[0m\u001b[0msort\u001b[0m\u001b[0;34m(\u001b[0m\u001b[0;34m)\u001b[0m\u001b[0;34m\u001b[0m\u001b[0m\n\u001b[1;32m     64\u001b[0m     \u001b[0;32mfor\u001b[0m \u001b[0mi\u001b[0m \u001b[0;32min\u001b[0m \u001b[0mrange\u001b[0m\u001b[0;34m(\u001b[0m\u001b[0mlen\u001b[0m\u001b[0;34m(\u001b[0m\u001b[0mwins\u001b[0m\u001b[0;34m)\u001b[0m\u001b[0;34m)\u001b[0m\u001b[0;34m:\u001b[0m\u001b[0;34m\u001b[0m\u001b[0m\n\u001b[0;32m---> 65\u001b[0;31m         \u001b[0;32mif\u001b[0m\u001b[0;34m(\u001b[0m\u001b[0mwins\u001b[0m \u001b[0;34m!=\u001b[0m \u001b[0mnull\u001b[0m\u001b[0;34m)\u001b[0m\u001b[0;34m:\u001b[0m\u001b[0;34m\u001b[0m\u001b[0m\n\u001b[0m\u001b[1;32m     66\u001b[0m             \u001b[0mratios\u001b[0m\u001b[0;34m.\u001b[0m\u001b[0mappend\u001b[0m\u001b[0;34m(\u001b[0m\u001b[0mint\u001b[0m\u001b[0;34m(\u001b[0m\u001b[0mwins\u001b[0m\u001b[0;34m[\u001b[0m\u001b[0mi\u001b[0m\u001b[0;34m]\u001b[0m\u001b[0;34m)\u001b[0m\u001b[0;34m/\u001b[0m\u001b[0;34m(\u001b[0m\u001b[0mint\u001b[0m\u001b[0;34m(\u001b[0m\u001b[0mwins\u001b[0m\u001b[0;34m[\u001b[0m\u001b[0mi\u001b[0m\u001b[0;34m]\u001b[0m\u001b[0;34m)\u001b[0m\u001b[0;34m+\u001b[0m\u001b[0mint\u001b[0m\u001b[0;34m(\u001b[0m\u001b[0mlosses\u001b[0m\u001b[0;34m[\u001b[0m\u001b[0mi\u001b[0m\u001b[0;34m]\u001b[0m\u001b[0;34m)\u001b[0m\u001b[0;34m)\u001b[0m\u001b[0;34m)\u001b[0m\u001b[0;34m\u001b[0m\u001b[0m\n\u001b[1;32m     67\u001b[0m     \u001b[0mprint\u001b[0m\u001b[0;34m(\u001b[0m\u001b[0mwins\u001b[0m\u001b[0;34m)\u001b[0m\u001b[0;34m\u001b[0m\u001b[0m\n",
      "\u001b[0;31mNameError\u001b[0m: name 'null' is not defined"
     ]
    }
   ],
   "source": [
    "import pandas as pd\n",
    "import numpy as np\n",
    "import matplotlib.pyplot as plt\n",
    "import matplotlib\n",
    "%matplotlib inline\n",
    "import os\n",
    "import plotly\n",
    "from plotly.graph_objs import Scatter, Layout\n",
    "import numpy as np\n",
    "import json\n",
    "\n",
    "# questions: What makes a winning team? Are \"hot streaks\" a reality on the team level, or is there a hot hand fallacy?\n",
    "# Do bad teams at the begining of a season stay bad for most of the season? How common are \"upsets\"? \n",
    "\n",
    "# I would like to examine the commoness of upsets based on the winning and loosing streaks of a team and other factors that may come into play.\n",
    "\n",
    "\n",
    "# read two files in\n",
    "fileNames = []\n",
    "for file in os.listdir('cleanjson'):\n",
    "    fileNames.append('/Users/johnottenlips/chartAnalysis/cleanjson/'+file)\n",
    "    \n",
    "# print(fileNames)\n",
    "\n",
    "\n",
    "json = []\n",
    "for i in range(30):\n",
    "    json.append(pd.read_json(fileNames[i]))\n",
    "teams = [] #list of all teams\n",
    "dates = [] #list of all dates\n",
    "# print(json[1])\n",
    "wins = []\n",
    "for i in range(len(json)):\n",
    "    teams.append(json[0][\"Team\"][i])\n",
    "    wins.append(json[i].Win[1])\n",
    "    dates.append(json[i][\"Date Pulled\"][1])\n",
    "# print(Wins, dates)\n",
    "\n",
    "\n",
    "\n",
    "###METHODS FOR DATA PROCESSING###\n",
    "\n",
    "def getTeamWinsByIndex(index, json, numOfFiles):\n",
    "    wins = []\n",
    "    for i in range(numOfFiles):\n",
    "        if (\"W\" not in json[i].Win[index]):\n",
    "            wins.append(json[i].Win[index])\n",
    "    return wins\n",
    "\n",
    "def getTeamLossesByIndex(index, json, numOfFiles):\n",
    "    losses = []\n",
    "    for i in range(numOfFiles):\n",
    "        if (\"L\" not in json[i].Loss[index]):\n",
    "            losses.append(json[i].Loss[index])\n",
    "    return losses\n",
    "\n",
    "def getTeamWLRation(index, json, numOfFiles):\n",
    "    ratios = []\n",
    "    for i in range(numOfFiles):\n",
    "        wins = getTeamWinsByIndex(index,json,numOfFiles)\n",
    "        wins.sort()\n",
    "        losses = getTeamLossesByIndex(index,json,numOfFiles)\n",
    "        losses.sort()\n",
    "    for i in range(len(wins)):\n",
    "        ratios.append(int(wins[i])/(int(wins[i])+int(losses[i])))\n",
    "    print(wins)\n",
    "    print(losses)\n",
    "    print(ratios)\n",
    "    return ratios\n",
    "        \n",
    "def getListOfAllTeamsAndWins(teams, json, numOfFiles):\n",
    "    winDict = dict()\n",
    "    for i in range(30):\n",
    "        wins = getTeamWinsByIndex(i,json,numOfFiles)\n",
    "        wins.sort()\n",
    "        winDict[teams[i]] = wins\n",
    "    return winDict\n",
    "\n",
    "def getListOfAllTeamsAndLosses(teams, json, numOfFiles):\n",
    "    lossDict = dict()\n",
    "    for i in range(30):\n",
    "        losses = getTeamWinsByIndex(i,json,numOfFiles)\n",
    "        losses.sort()\n",
    "        lossDict[teams[i]] = losses\n",
    "    return lossDict\n",
    "\n",
    "def getWinLossRationOfAllTeams(teams, json, numOfFiles):\n",
    "    ratioDict = dict()\n",
    "    for i in range(30):\n",
    "        ratio = getTeamWLRation(i,json,numOfFiles)\n",
    "        ratioDict[teams[i]] = ratio\n",
    "    return ratioDict\n",
    "\n",
    "\n",
    "##################################################\n",
    "getWinLossRationOfAllTeams(teams,json,30)\n",
    "# dictTeamWin = getListOfAllTeamsAndWins(teams,json,30)"
   ]
  },
  {
   "cell_type": "code",
   "execution_count": 67,
   "metadata": {
    "collapsed": false
   },
   "outputs": [
    {
     "data": {
      "text/html": [
       "<script>requirejs.config({paths: { 'plotly': ['https://cdn.plot.ly/plotly-latest.min']},});if(!window.Plotly) {{require(['plotly'],function(plotly) {window.Plotly=plotly;});}}</script>"
      ],
      "text/plain": [
       "<IPython.core.display.HTML object>"
      ]
     },
     "metadata": {},
     "output_type": "display_data"
    },
    {
     "data": {
      "text/html": [
       "<div id=\"93ae27d2-9daf-4f0f-8d75-81fb6ce0a42b\" style=\"height: 525px; width: 100%;\" class=\"plotly-graph-div\"></div><script type=\"text/javascript\">require([\"plotly\"], function(Plotly) { window.PLOTLYENV=window.PLOTLYENV || {};window.PLOTLYENV.BASE_URL=\"https://plot.ly\";Plotly.newPlot(\"93ae27d2-9daf-4f0f-8d75-81fb6ce0a42b\", [{\"type\": \"scatter\", \"y\": [\"40\", \"40\", \"41\", \"41\", \"41\", \"41\", \"42\", \"43\", \"43\", \"44\", \"44\", \"44\", \"44\", \"44\", \"44\", \"44\", \"44\", \"44\", \"44\", \"44\", \"45\", \"45\", \"45\", \"46\", \"46\", \"46\", \"47\", \"47\", \"48\", \"48\"], \"x\": [\"2017-02-23\", \"2017-02-24\", \"2017-02-25\", \"2017-02-26\", \"2017-02-27\", \"2017-02-28\", \"2017-03-01\", \"2017-03-02\", \"2017-03-03\", \"2017-03-04\", \"2017-03-05\", \"2017-03-06\", \"2017-03-07\", \"2017-03-08\", \"2017-03-09\", \"2017-03-10\", \"2017-03-11\", \"2017-03-12\", \"2017-03-13\", \"2017-03-14\", \"2017-03-15\", \"2017-03-16\", \"2017-03-17\", \"2017-03-18\", \"2017-03-19\", \"2017-03-20\", \"2017-03-21\", \"2017-03-22\", \"2017-03-23\", \"2017-03-24\"]}, {\"type\": \"scatter\", \"y\": [\"31\", \"31\", \"31\", \"31\", \"31\", \"31\", \"32\", \"32\", \"32\", \"32\", \"32\", \"32\", \"32\", \"32\", \"32\", \"32\", \"32\", \"33\", \"33\", \"34\", \"34\", \"34\", \"35\", \"35\", \"36\", \"36\", \"38\", \"39\", \"40\", \"40\"], \"x\": [\"2017-02-23\", \"2017-02-24\", \"2017-02-25\", \"2017-02-26\", \"2017-02-27\", \"2017-02-28\", \"2017-03-01\", \"2017-03-02\", \"2017-03-03\", \"2017-03-04\", \"2017-03-05\", \"2017-03-06\", \"2017-03-07\", \"2017-03-08\", \"2017-03-09\", \"2017-03-10\", \"2017-03-11\", \"2017-03-12\", \"2017-03-13\", \"2017-03-14\", \"2017-03-15\", \"2017-03-16\", \"2017-03-17\", \"2017-03-18\", \"2017-03-19\", \"2017-03-20\", \"2017-03-21\", \"2017-03-22\", \"2017-03-23\", \"2017-03-24\"]}], {\"title\": \"\"}, {\"linkText\": \"Export to plot.ly\", \"showLink\": true})});</script>"
      ],
      "text/plain": [
       "<IPython.core.display.HTML object>"
      ]
     },
     "metadata": {},
     "output_type": "display_data"
    }
   ],
   "source": [
    "###Plotting###\n",
    "\n",
    "plotly.offline.init_notebook_mode(connected=True)\n",
    "\n",
    "plotly.offline.iplot({\n",
    "    \"data\": [Scatter(x=dates, y=dictTeamWin[\"Washington\"]),Scatter(x=dates, y=dictTeamWin[\"St. Louis\"])],\n",
    "    \"layout\": Layout(title=\"\")\n",
    "})\n"
   ]
  },
  {
   "cell_type": "code",
   "execution_count": null,
   "metadata": {
    "collapsed": false
   },
   "outputs": [],
   "source": []
  },
  {
   "cell_type": "code",
   "execution_count": null,
   "metadata": {
    "collapsed": true
   },
   "outputs": [],
   "source": []
  }
 ],
 "metadata": {
  "anaconda-cloud": {},
  "kernelspec": {
   "display_name": "Python [conda root]",
   "language": "python",
   "name": "conda-root-py"
  },
  "language_info": {
   "codemirror_mode": {
    "name": "ipython",
    "version": 3
   },
   "file_extension": ".py",
   "mimetype": "text/x-python",
   "name": "python",
   "nbconvert_exporter": "python",
   "pygments_lexer": "ipython3",
   "version": "3.5.2"
  }
 },
 "nbformat": 4,
 "nbformat_minor": 1
}
