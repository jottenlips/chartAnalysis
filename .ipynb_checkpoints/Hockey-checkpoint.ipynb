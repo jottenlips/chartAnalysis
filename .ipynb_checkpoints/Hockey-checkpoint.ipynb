{
 "cells": [
  {
   "cell_type": "code",
   "execution_count": 38,
   "metadata": {
    "collapsed": false
   },
   "outputs": [
    {
     "name": "stdout",
     "output_type": "stream",
     "text": [
      "['32', '32', '32', '33', '34', '34', '35', '36', '36', '37', '37', '37', '37', '38', '38', '38', '38', '39', '39', '39', '39', '39', '39', '40', '40', '41', '41', '41', '41', '41'] ['2017-02-24', '2017-02-25', '2017-02-26', '2017-02-27', '2017-02-28', '2017-03-01', '2017-03-02', '2017-03-03', '2017-03-05', '2017-03-06', '2017-03-07', '2017-03-08', '2017-03-09', '2017-03-10', '2017-03-11', '2017-03-12', '2017-03-14', '2017-03-15', '2017-03-16', '2017-03-17', '2017-03-18', '2017-03-19', '2017-03-20', '2017-03-22', '2017-03-23', '2017-03-24']\n",
      "['Montreal', 'Ottawa', 'Toronto', 'Florida', 'Boston', 'Tampa Bay', 'Buffalo', 'Detroit', 'Washington', 'Pittsburgh', 'Columbus', 'N.Y. Rangers', 'N.Y. Islanders', 'Philadelphia', 'New Jersey', 'Carolina', 'Minnesota', 'Chicago', 'St. Louis', 'Nashville', 'Winnipeg', 'Dallas', 'Colorado', 'San Jose', 'Edmonton', 'Anaheim']\n"
     ]
    }
   ],
   "source": [
    "import pandas as pd\n",
    "import numpy as np\n",
    "import matplotlib.pyplot as plt\n",
    "import matplotlib\n",
    "%matplotlib inline\n",
    "import os\n",
    "import plotly\n",
    "from plotly.graph_objs import Scatter, Layout\n",
    "import numpy as np\n",
    "import json\n",
    "\n",
    "# questions: What makes a winning team? Are \"hot streaks\" a reality on the team level, or is there a hot hand fallacy?\n",
    "# Do bad teams at the begining of a season stay bad for most of the season? How common are \"upsets\"? \n",
    "\n",
    "# I would like to examine the commoness of upsets based on the winning and loosing streaks of a team and other factors that may come into play.\n",
    "\n",
    "\n",
    "# read two files in\n",
    "fileNames = []\n",
    "for file in os.listdir('cleanjson'):\n",
    "    fileNames.append('/Users/johnottenlips/chartAnalysis/cleanjson/'+file)\n",
    "    \n",
    "# print(fileNames)\n",
    "\n",
    "\n",
    "json = []\n",
    "for i in range(30):\n",
    "    json.append(pd.read_json(fileNames[i]))\n",
    "teams = [] #list of all teams\n",
    "dates = [] #list of all dates\n",
    "\n",
    "wins = []\n",
    "for i in range(len(json)):\n",
    "    if(\"Division\" in json[0].Team[i]):\n",
    "        continue\n",
    "    else:\n",
    "        teams.append(json[0][\"Team\"][i])\n",
    "    wins.append(json[i].Win[1])\n",
    "    dates.append(json[i][\"Date Pulled\"][1])\n",
    "print(Wins, dates)\n",
    "wins2 = []\n",
    "\n",
    "for i in range(len(json)):\n",
    "    wins2.append(json[i].Win[2])\n",
    "print(teams)\n",
    "    \n",
    "    \n",
    "    "
   ]
  },
  {
   "cell_type": "code",
   "execution_count": 39,
   "metadata": {
    "collapsed": false
   },
   "outputs": [
    {
     "data": {
      "text/html": [
       "<script>requirejs.config({paths: { 'plotly': ['https://cdn.plot.ly/plotly-latest.min']},});if(!window.Plotly) {{require(['plotly'],function(plotly) {window.Plotly=plotly;});}}</script>"
      ],
      "text/plain": [
       "<IPython.core.display.HTML object>"
      ]
     },
     "metadata": {},
     "output_type": "display_data"
    },
    {
     "data": {
      "text/html": [
       "<div id=\"f6c31378-e52b-4801-b597-a4565fbafb11\" style=\"height: 525px; width: 100%;\" class=\"plotly-graph-div\"></div><script type=\"text/javascript\">require([\"plotly\"], function(Plotly) { window.PLOTLYENV=window.PLOTLYENV || {};window.PLOTLYENV.BASE_URL=\"https://plot.ly\";Plotly.newPlot(\"f6c31378-e52b-4801-b597-a4565fbafb11\", [{\"y\": [\"32\", \"32\", \"33\", \"34\", \"34\", \"35\", \"36\", \"36\", \"37\", \"37\", \"37\", \"38\", \"38\", \"38\", \"38\", \"39\", \"39\", \"39\", \"39\", \"39\", \"40\", \"40\", \"41\", \"41\", \"41\", \"41\"], \"x\": [\"2017-02-24\", \"2017-02-25\", \"2017-02-26\", \"2017-02-27\", \"2017-02-28\", \"2017-03-01\", \"2017-03-02\", \"2017-03-03\", \"2017-03-05\", \"2017-03-06\", \"2017-03-07\", \"2017-03-08\", \"2017-03-09\", \"2017-03-10\", \"2017-03-11\", \"2017-03-12\", \"2017-03-14\", \"2017-03-15\", \"2017-03-16\", \"2017-03-17\", \"2017-03-18\", \"2017-03-19\", \"2017-03-20\", \"2017-03-22\", \"2017-03-23\", \"2017-03-24\"], \"type\": \"scatter\"}, {\"y\": [\"32\", \"32\", \"32\", \"33\", \"33\", \"33\", \"33\", \"34\", \"34\", \"35\", \"35\", \"36\", \"36\", \"36\", \"37\", \"38\", \"38\", \"39\", \"39\", \"39\", \"39\", \"39\", \"39\", \"39\", \"39\", \"39\", \"39\", \"40\", \"41\", \"41\"], \"x\": [\"2017-02-24\", \"2017-02-25\", \"2017-02-26\", \"2017-02-27\", \"2017-02-28\", \"2017-03-01\", \"2017-03-02\", \"2017-03-03\", \"2017-03-05\", \"2017-03-06\", \"2017-03-07\", \"2017-03-08\", \"2017-03-09\", \"2017-03-10\", \"2017-03-11\", \"2017-03-12\", \"2017-03-14\", \"2017-03-15\", \"2017-03-16\", \"2017-03-17\", \"2017-03-18\", \"2017-03-19\", \"2017-03-20\", \"2017-03-22\", \"2017-03-23\", \"2017-03-24\"], \"type\": \"scatter\"}], {\"title\": \"Montreal and Ottawa\"}, {\"showLink\": true, \"linkText\": \"Export to plot.ly\"})});</script>"
      ],
      "text/plain": [
       "<IPython.core.display.HTML object>"
      ]
     },
     "metadata": {},
     "output_type": "display_data"
    }
   ],
   "source": [
    "\n",
    "\n",
    "plotly.offline.init_notebook_mode(connected=True)\n",
    "\n",
    "plotly.offline.iplot({\n",
    "    \"data\": [Scatter(x=dates, y=wins),Scatter(x=dates, y=wins2)],\n",
    "    \"layout\": Layout(title=\"Montreal and Ottawa\")\n",
    "})"
   ]
  },
  {
   "cell_type": "code",
   "execution_count": null,
   "metadata": {
    "collapsed": false,
    "scrolled": true
   },
   "outputs": [],
   "source": []
  },
  {
   "cell_type": "code",
   "execution_count": null,
   "metadata": {
    "collapsed": false
   },
   "outputs": [],
   "source": []
  },
  {
   "cell_type": "code",
   "execution_count": null,
   "metadata": {
    "collapsed": true
   },
   "outputs": [],
   "source": []
  },
  {
   "cell_type": "code",
   "execution_count": null,
   "metadata": {
    "collapsed": true
   },
   "outputs": [],
   "source": []
  }
 ],
 "metadata": {
  "anaconda-cloud": {},
  "kernelspec": {
   "display_name": "Python [conda root]",
   "language": "python",
   "name": "conda-root-py"
  },
  "language_info": {
   "codemirror_mode": {
    "name": "ipython",
    "version": 3
   },
   "file_extension": ".py",
   "mimetype": "text/x-python",
   "name": "python",
   "nbconvert_exporter": "python",
   "pygments_lexer": "ipython3",
   "version": "3.5.2"
  }
 },
 "nbformat": 4,
 "nbformat_minor": 1
}
