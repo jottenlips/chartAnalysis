{
 "cells": [
  {
   "cell_type": "code",
   "execution_count": 13,
   "metadata": {
    "collapsed": false
   },
   "outputs": [],
   "source": [
    "import pandas as pd\n",
    "import numpy as np\n",
    "import matplotlib.pyplot as plt\n",
    "filename = '/Users/johnottenlips/chartAnalysis/json/2017-02-19.nhlstandings.json'\n",
    "#filename = 'C:\\Users\\username\\pathToFile\\fileName.json'\n",
    "#filename = 'fileName.json'\n",
    "data = pd.read_json(filename)\n",
    "\n",
    "filename2 = '/Users/johnottenlips/chartAnalysis/json/2017-02-23.nhlstandings.json'\n",
    "#filename = 'C:\\Users\\username\\pathToFile\\fileName.json'\n",
    "#filename = 'fileName.json'\n",
    "data2 = pd.read_json(filename2)\n",
    "\n",
    "\n",
    "\n",
    "\n"
   ]
  },
  {
   "cell_type": "code",
   "execution_count": 68,
   "metadata": {
    "collapsed": false
   },
   "outputs": [
    {
     "name": "stdout",
     "output_type": "stream",
     "text": [
      "0         Atlantic  Division  W   L  ////  W   L\n",
      "1               Montreal  31   20  ////  32   20\n",
      "2                 Ottawa  31   19  ////  32   20\n",
      "3                Florida  27   20  ////  28   20\n",
      "4                 Boston  29   23  ////  28   21\n",
      "5                Toronto  26   20  ////  30   24\n",
      "6                Buffalo  26   23  ////  27   24\n",
      "7              Tampa Bay  25   24  ////  26   24\n",
      "8                Detroit  24   25  ////  24   26\n",
      "9     Metropolitan  Division  W   L  ////  W   L\n",
      "10            Washington  39   12  ////  40   12\n",
      "11            Pittsburgh  36   14  ////  37   14\n",
      "12              Columbus  37   15  ////  37   16\n",
      "13          N.Y. Rangers  38   19  ////  38   19\n",
      "14        N.Y. Islanders  26   21  ////  28   21\n",
      "15          Philadelphia  27   24  ////  28   25\n",
      "16            New Jersey  25   23  ////  25   25\n",
      "17              Carolina  24   22  ////  24   24\n",
      "18         Central  Division  W   L  ////  W   L\n",
      "19             Minnesota  39   13  ////  39   14\n",
      "20               Chicago  35   18  ////  37   18\n",
      "21             St. Louis  31   23  ////  31   24\n",
      "22             Nashville  27   22  ////  28   22\n",
      "23              Winnipeg  27   29  ////  28   29\n",
      "24                Dallas  23   27  ////  23   27\n",
      "25              Colorado  16   38  ////  16   39\n",
      "26         Pacific  Division  W   L  ////  W   L\n",
      "27              San Jose  35   18  ////  35   18\n",
      "28              Edmonton  32   19  ////  33   20\n",
      "29               Anaheim  30   19  ////  32   20\n",
      "30               Calgary  29   26  ////  30   26\n",
      "31           Los Angeles  28   25  ////  29   26\n",
      "32             Vancouver  26   27  ////  26   28\n",
      "33               Arizona  20   30  ////  21   30\n",
      "dtype: object\n",
      "30 30\n"
     ]
    },
    {
     "data": {
      "image/png": "[encoded data removed]",
      "text/plain": [
       "<matplotlib.figure.Figure at 0x115c3e278>"
      ]
     },
     "metadata": {},
     "output_type": "display_data"
    }
   ],
   "source": [
    "# set(data.Team)\n",
    "print(data.Team+\"  \"+data.Win+\"   \"+data.Loss +\"  ////  \"+ data2.Win + \"   \" + data2.Loss)\n",
    "Wins = []\n",
    "Wins2 = []\n",
    "Loss = []\n",
    "Loss2 = []\n",
    "numGame = []\n",
    "numGame2 = []\n",
    "for i in range(len(data.Win)):\n",
    "    if data.Win[i] != \"W\":\n",
    "         Wins.append(int(data.Win[i]))\n",
    "    \n",
    "for i in range(len(data2.Win)):\n",
    "    if data2.Win[i] != \"W\":\n",
    "         Wins2.append(int(data2.Win[i]))\n",
    "            \n",
    "for i in range(len(data.Loss)):\n",
    "    if data.Loss[i] != \"L\":\n",
    "         Loss.append(int(data.Loss[i]))\n",
    "            \n",
    "            \n",
    "for i in range(len(data2.Loss)):\n",
    "    if data2.Loss[i] != \"L\":\n",
    "         Loss2.append(int(data2.Loss[i]))\n",
    "            \n",
    "for i in range(len(Loss)):\n",
    "    numGame.append(Loss[i] + Wins[i])\n",
    "    percentage.append(Wins[i]/numGame[i])\n",
    "\n",
    "for i in range(len(Loss2)):\n",
    "    numGame2.append(Loss2[i] + Wins2[i])\n",
    "    percentage2.append(Wins2[i]/numGame2[i])\n",
    "    \n",
    "\n",
    "\n",
    "print(len(numGame), len(Wins))\n",
    "\n",
    "plt.scatter(Wins,numGame, Wins2,numGame2)\n",
    "plt.show()\n",
    "\n",
    "      \n"
   ]
  },
  {
   "cell_type": "code",
   "execution_count": null,
   "metadata": {
    "collapsed": false
   },
   "outputs": [],
   "source": [
    "\n",
    "\n",
    "\n",
    "\n"
   ]
  },
  {
   "cell_type": "code",
   "execution_count": null,
   "metadata": {
    "collapsed": true
   },
   "outputs": [],
   "source": []
  }
 ],
 "metadata": {
  "anaconda-cloud": {},
  "kernelspec": {
   "display_name": "Python [conda root]",
   "language": "python",
   "name": "conda-root-py"
  },
  "language_info": {
   "codemirror_mode": {
    "name": "ipython",
    "version": 3
   },
   "file_extension": ".py",
   "mimetype": "text/x-python",
   "name": "python",
   "nbconvert_exporter": "python",
   "pygments_lexer": "ipython3",
   "version": "3.5.2"
  }
 },
 "nbformat": 4,
 "nbformat_minor": 1
}
